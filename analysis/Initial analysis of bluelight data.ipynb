{
 "cells": [
  {
   "cell_type": "code",
   "execution_count": 1,
   "id": "901b66bc-8f9f-4694-80e2-47c6b082f5cc",
   "metadata": {},
   "outputs": [
    {
     "data": {
      "text/html": [
       "<div>\n",
       "<style scoped>\n",
       "    .dataframe tbody tr th:only-of-type {\n",
       "        vertical-align: middle;\n",
       "    }\n",
       "\n",
       "    .dataframe tbody tr th {\n",
       "        vertical-align: top;\n",
       "    }\n",
       "\n",
       "    .dataframe thead th {\n",
       "        text-align: right;\n",
       "    }\n",
       "</style>\n",
       "<table border=\"1\" class=\"dataframe\">\n",
       "  <thead>\n",
       "    <tr style=\"text-align: right;\">\n",
       "      <th></th>\n",
       "      <th>Age</th>\n",
       "      <th>Gender</th>\n",
       "      <th>meals/day</th>\n",
       "      <th>physical illness</th>\n",
       "      <th>screen time</th>\n",
       "      <th>bluelight filter</th>\n",
       "      <th>sleep direction</th>\n",
       "      <th>exercise</th>\n",
       "      <th>smoke/drink</th>\n",
       "      <th>beverage</th>\n",
       "      <th>sleep time</th>\n",
       "    </tr>\n",
       "  </thead>\n",
       "  <tbody>\n",
       "    <tr>\n",
       "      <th>0</th>\n",
       "      <td>22</td>\n",
       "      <td>Male</td>\n",
       "      <td>two</td>\n",
       "      <td>no</td>\n",
       "      <td>2hrs</td>\n",
       "      <td>yes</td>\n",
       "      <td>west</td>\n",
       "      <td>sometimes</td>\n",
       "      <td>no</td>\n",
       "      <td>Tea</td>\n",
       "      <td>6.7575</td>\n",
       "    </tr>\n",
       "    <tr>\n",
       "      <th>1</th>\n",
       "      <td>22</td>\n",
       "      <td>Female</td>\n",
       "      <td>three</td>\n",
       "      <td>no</td>\n",
       "      <td>3-4 hrs</td>\n",
       "      <td>no</td>\n",
       "      <td>south</td>\n",
       "      <td>no</td>\n",
       "      <td>no</td>\n",
       "      <td>Coffee</td>\n",
       "      <td>8.0000</td>\n",
       "    </tr>\n",
       "    <tr>\n",
       "      <th>2</th>\n",
       "      <td>23</td>\n",
       "      <td>Male</td>\n",
       "      <td>three</td>\n",
       "      <td>no</td>\n",
       "      <td>3-4 hrs</td>\n",
       "      <td>no</td>\n",
       "      <td>south</td>\n",
       "      <td>no</td>\n",
       "      <td>no</td>\n",
       "      <td>Tea</td>\n",
       "      <td>8.0000</td>\n",
       "    </tr>\n",
       "    <tr>\n",
       "      <th>3</th>\n",
       "      <td>23</td>\n",
       "      <td>Female</td>\n",
       "      <td>two</td>\n",
       "      <td>no</td>\n",
       "      <td>1-2 hrs</td>\n",
       "      <td>no</td>\n",
       "      <td>east</td>\n",
       "      <td>sometimes</td>\n",
       "      <td>no</td>\n",
       "      <td>Coffee</td>\n",
       "      <td>6.5000</td>\n",
       "    </tr>\n",
       "    <tr>\n",
       "      <th>4</th>\n",
       "      <td>22</td>\n",
       "      <td>Male</td>\n",
       "      <td>three</td>\n",
       "      <td>no</td>\n",
       "      <td>more than 5</td>\n",
       "      <td>yes</td>\n",
       "      <td>east</td>\n",
       "      <td>sometimes</td>\n",
       "      <td>yes</td>\n",
       "      <td>Tea and Coffee both</td>\n",
       "      <td>6.0000</td>\n",
       "    </tr>\n",
       "  </tbody>\n",
       "</table>\n",
       "</div>"
      ],
      "text/plain": [
       "   Age  Gender meals/day physical illness  screen time bluelight filter  \\\n",
       "0   22    Male       two               no         2hrs              yes   \n",
       "1   22  Female     three               no      3-4 hrs               no   \n",
       "2   23    Male     three               no      3-4 hrs               no   \n",
       "3   23  Female       two               no      1-2 hrs               no   \n",
       "4   22    Male     three               no  more than 5              yes   \n",
       "\n",
       "  sleep direction   exercise smoke/drink             beverage  sleep time  \n",
       "0            west  sometimes          no                  Tea      6.7575  \n",
       "1           south         no          no               Coffee      8.0000  \n",
       "2           south         no          no                  Tea      8.0000  \n",
       "3            east  sometimes          no               Coffee      6.5000  \n",
       "4            east  sometimes         yes  Tea and Coffee both      6.0000  "
      ]
     },
     "execution_count": 1,
     "metadata": {},
     "output_type": "execute_result"
    }
   ],
   "source": [
    "#import data\n",
    "import pandas as pd\n",
    "import matplotlib.pyplot as plt\n",
    "df = pd.read_csv('../datasets/Sleep_Analysis')\n",
    "df.head()"
   ]
  },
  {
   "cell_type": "code",
   "execution_count": 2,
   "id": "121aa4da-9151-4cad-ae89-abcc5ca094cd",
   "metadata": {},
   "outputs": [],
   "source": [
    "#get number of rows\n",
    "num_rows = len(df)"
   ]
  },
  {
   "cell_type": "code",
   "execution_count": 3,
   "id": "05d58abf-339c-4afd-ba03-6310fc937431",
   "metadata": {},
   "outputs": [],
   "source": [
    "#calculate average sleep time\n",
    "sleep_time_average = df['sleep time'].mean()"
   ]
  },
  {
   "cell_type": "code",
   "execution_count": 4,
   "id": "cd0f4c03-68d9-4fc7-b661-6d8a9825886d",
   "metadata": {},
   "outputs": [],
   "source": [
    "#calculate percent using bluelight filter\n",
    "bluelight_filter_percentage = len(df[df['bluelight filter'] == 'yes'])/num_rows"
   ]
  },
  {
   "cell_type": "code",
   "execution_count": 5,
   "id": "ecd342fc-365b-43a5-915c-1b113ac55c6e",
   "metadata": {},
   "outputs": [
    {
     "data": {
      "text/html": [
       "<div>\n",
       "<style scoped>\n",
       "    .dataframe tbody tr th:only-of-type {\n",
       "        vertical-align: middle;\n",
       "    }\n",
       "\n",
       "    .dataframe tbody tr th {\n",
       "        vertical-align: top;\n",
       "    }\n",
       "\n",
       "    .dataframe thead th {\n",
       "        text-align: right;\n",
       "    }\n",
       "</style>\n",
       "<table border=\"1\" class=\"dataframe\">\n",
       "  <thead>\n",
       "    <tr style=\"text-align: right;\">\n",
       "      <th></th>\n",
       "      <th>Age</th>\n",
       "      <th>Gender</th>\n",
       "      <th>meals/day</th>\n",
       "      <th>physical illness</th>\n",
       "      <th>screen time</th>\n",
       "      <th>bluelight filter</th>\n",
       "      <th>sleep direction</th>\n",
       "      <th>exercise</th>\n",
       "      <th>smoke/drink</th>\n",
       "      <th>beverage</th>\n",
       "      <th>sleep time</th>\n",
       "    </tr>\n",
       "  </thead>\n",
       "  <tbody>\n",
       "    <tr>\n",
       "      <th>0</th>\n",
       "      <td>22</td>\n",
       "      <td>Male</td>\n",
       "      <td>two</td>\n",
       "      <td>no</td>\n",
       "      <td>2hrs</td>\n",
       "      <td>yes</td>\n",
       "      <td>west</td>\n",
       "      <td>sometimes</td>\n",
       "      <td>no</td>\n",
       "      <td>Tea</td>\n",
       "      <td>6.7575</td>\n",
       "    </tr>\n",
       "    <tr>\n",
       "      <th>2</th>\n",
       "      <td>23</td>\n",
       "      <td>Male</td>\n",
       "      <td>three</td>\n",
       "      <td>no</td>\n",
       "      <td>3-4 hrs</td>\n",
       "      <td>no</td>\n",
       "      <td>south</td>\n",
       "      <td>no</td>\n",
       "      <td>no</td>\n",
       "      <td>Tea</td>\n",
       "      <td>8.0000</td>\n",
       "    </tr>\n",
       "    <tr>\n",
       "      <th>4</th>\n",
       "      <td>22</td>\n",
       "      <td>Male</td>\n",
       "      <td>three</td>\n",
       "      <td>no</td>\n",
       "      <td>more than 5</td>\n",
       "      <td>yes</td>\n",
       "      <td>east</td>\n",
       "      <td>sometimes</td>\n",
       "      <td>yes</td>\n",
       "      <td>Tea and Coffee both</td>\n",
       "      <td>6.0000</td>\n",
       "    </tr>\n",
       "    <tr>\n",
       "      <th>5</th>\n",
       "      <td>22</td>\n",
       "      <td>Male</td>\n",
       "      <td>two</td>\n",
       "      <td>no</td>\n",
       "      <td>2-3 hrs</td>\n",
       "      <td>yes</td>\n",
       "      <td>west</td>\n",
       "      <td>sometimes</td>\n",
       "      <td>no</td>\n",
       "      <td>Tea</td>\n",
       "      <td>6.7575</td>\n",
       "    </tr>\n",
       "    <tr>\n",
       "      <th>6</th>\n",
       "      <td>22</td>\n",
       "      <td>Male</td>\n",
       "      <td>four</td>\n",
       "      <td>no</td>\n",
       "      <td>1-2 hrs</td>\n",
       "      <td>yes</td>\n",
       "      <td>south</td>\n",
       "      <td>yes</td>\n",
       "      <td>no</td>\n",
       "      <td>none of the above</td>\n",
       "      <td>7.0000</td>\n",
       "    </tr>\n",
       "  </tbody>\n",
       "</table>\n",
       "</div>"
      ],
      "text/plain": [
       "   Age Gender meals/day physical illness  screen time bluelight filter  \\\n",
       "0   22   Male       two               no         2hrs              yes   \n",
       "2   23   Male     three               no      3-4 hrs               no   \n",
       "4   22   Male     three               no  more than 5              yes   \n",
       "5   22   Male       two               no      2-3 hrs              yes   \n",
       "6   22   Male      four               no      1-2 hrs              yes   \n",
       "\n",
       "  sleep direction   exercise smoke/drink             beverage  sleep time  \n",
       "0            west  sometimes          no                  Tea      6.7575  \n",
       "2           south         no          no                  Tea      8.0000  \n",
       "4            east  sometimes         yes  Tea and Coffee both      6.0000  \n",
       "5            west  sometimes          no                  Tea      6.7575  \n",
       "6           south        yes          no    none of the above      7.0000  "
      ]
     },
     "execution_count": 5,
     "metadata": {},
     "output_type": "execute_result"
    }
   ],
   "source": [
    "#seperate data for only men\n",
    "male_df = df[df['Gender'] == 'Male']\n",
    "male_df.head()"
   ]
  },
  {
   "cell_type": "code",
   "execution_count": 6,
   "id": "30330cb5-b0cd-48f7-84ab-ef125dff9419",
   "metadata": {},
   "outputs": [],
   "source": [
    "#get number of men rows\n",
    "num_mrows = len(male_df)"
   ]
  },
  {
   "cell_type": "code",
   "execution_count": 7,
   "id": "8c370d11-19d2-48f0-be33-cb81bbddea70",
   "metadata": {},
   "outputs": [],
   "source": [
    "#calculate average male sleep time\n",
    "male_sleep_time_average = male_df['sleep time'].mean()"
   ]
  },
  {
   "cell_type": "code",
   "execution_count": 8,
   "id": "db40a820-2017-40aa-92b9-68eb5faa2ff6",
   "metadata": {},
   "outputs": [],
   "source": [
    "#calculate male percent using bluelight\n",
    "male_bluelight_filter_percentage = len(male_df[male_df['bluelight filter'] == 'yes'])/num_mrows"
   ]
  },
  {
   "cell_type": "code",
   "execution_count": 9,
   "id": "3e8fcbed-d290-41dc-b85f-768dab4d6dbf",
   "metadata": {},
   "outputs": [
    {
     "data": {
      "text/html": [
       "<div>\n",
       "<style scoped>\n",
       "    .dataframe tbody tr th:only-of-type {\n",
       "        vertical-align: middle;\n",
       "    }\n",
       "\n",
       "    .dataframe tbody tr th {\n",
       "        vertical-align: top;\n",
       "    }\n",
       "\n",
       "    .dataframe thead th {\n",
       "        text-align: right;\n",
       "    }\n",
       "</style>\n",
       "<table border=\"1\" class=\"dataframe\">\n",
       "  <thead>\n",
       "    <tr style=\"text-align: right;\">\n",
       "      <th></th>\n",
       "      <th>Age</th>\n",
       "      <th>Gender</th>\n",
       "      <th>meals/day</th>\n",
       "      <th>physical illness</th>\n",
       "      <th>screen time</th>\n",
       "      <th>bluelight filter</th>\n",
       "      <th>sleep direction</th>\n",
       "      <th>exercise</th>\n",
       "      <th>smoke/drink</th>\n",
       "      <th>beverage</th>\n",
       "      <th>sleep time</th>\n",
       "    </tr>\n",
       "  </thead>\n",
       "  <tbody>\n",
       "    <tr>\n",
       "      <th>1</th>\n",
       "      <td>22</td>\n",
       "      <td>Female</td>\n",
       "      <td>three</td>\n",
       "      <td>no</td>\n",
       "      <td>3-4 hrs</td>\n",
       "      <td>no</td>\n",
       "      <td>south</td>\n",
       "      <td>no</td>\n",
       "      <td>no</td>\n",
       "      <td>Coffee</td>\n",
       "      <td>8.0</td>\n",
       "    </tr>\n",
       "    <tr>\n",
       "      <th>3</th>\n",
       "      <td>23</td>\n",
       "      <td>Female</td>\n",
       "      <td>two</td>\n",
       "      <td>no</td>\n",
       "      <td>1-2 hrs</td>\n",
       "      <td>no</td>\n",
       "      <td>east</td>\n",
       "      <td>sometimes</td>\n",
       "      <td>no</td>\n",
       "      <td>Coffee</td>\n",
       "      <td>6.5</td>\n",
       "    </tr>\n",
       "    <tr>\n",
       "      <th>7</th>\n",
       "      <td>24</td>\n",
       "      <td>Female</td>\n",
       "      <td>three</td>\n",
       "      <td>yes</td>\n",
       "      <td>4-5 hrs</td>\n",
       "      <td>no</td>\n",
       "      <td>east</td>\n",
       "      <td>sometimes</td>\n",
       "      <td>no</td>\n",
       "      <td>Tea</td>\n",
       "      <td>6.5</td>\n",
       "    </tr>\n",
       "    <tr>\n",
       "      <th>9</th>\n",
       "      <td>23</td>\n",
       "      <td>Female</td>\n",
       "      <td>three</td>\n",
       "      <td>no</td>\n",
       "      <td>more than 5</td>\n",
       "      <td>yes</td>\n",
       "      <td>north</td>\n",
       "      <td>yes</td>\n",
       "      <td>yes</td>\n",
       "      <td>Tea and Coffee both</td>\n",
       "      <td>7.0</td>\n",
       "    </tr>\n",
       "    <tr>\n",
       "      <th>10</th>\n",
       "      <td>28</td>\n",
       "      <td>Female</td>\n",
       "      <td>three</td>\n",
       "      <td>no</td>\n",
       "      <td>0-1 hrs</td>\n",
       "      <td>yes</td>\n",
       "      <td>north</td>\n",
       "      <td>yes</td>\n",
       "      <td>no</td>\n",
       "      <td>Tea</td>\n",
       "      <td>6.5</td>\n",
       "    </tr>\n",
       "  </tbody>\n",
       "</table>\n",
       "</div>"
      ],
      "text/plain": [
       "    Age  Gender meals/day physical illness  screen time bluelight filter  \\\n",
       "1    22  Female     three               no      3-4 hrs               no   \n",
       "3    23  Female       two               no      1-2 hrs               no   \n",
       "7    24  Female     three              yes      4-5 hrs               no   \n",
       "9    23  Female     three               no  more than 5              yes   \n",
       "10   28  Female     three               no      0-1 hrs              yes   \n",
       "\n",
       "   sleep direction   exercise smoke/drink             beverage  sleep time  \n",
       "1            south         no          no               Coffee         8.0  \n",
       "3             east  sometimes          no               Coffee         6.5  \n",
       "7             east  sometimes          no                  Tea         6.5  \n",
       "9            north        yes         yes  Tea and Coffee both         7.0  \n",
       "10           north        yes          no                  Tea         6.5  "
      ]
     },
     "execution_count": 9,
     "metadata": {},
     "output_type": "execute_result"
    }
   ],
   "source": [
    "#seperate data for women only\n",
    "female_df = df[df['Gender'] == 'Female']\n",
    "female_df.head()"
   ]
  },
  {
   "cell_type": "code",
   "execution_count": 10,
   "id": "deb2a590-5e05-4e8e-80d1-981ed5a7cef8",
   "metadata": {},
   "outputs": [],
   "source": [
    "#get number of female rows\n",
    "num_frows = len(female_df)"
   ]
  },
  {
   "cell_type": "code",
   "execution_count": 11,
   "id": "4e39baf9-e422-43bf-bffb-2beca2bda384",
   "metadata": {},
   "outputs": [],
   "source": [
    "#calculate female average sleep time\n",
    "female_sleep_time_average = female_df['sleep time'].mean()"
   ]
  },
  {
   "cell_type": "code",
   "execution_count": 12,
   "id": "88621169-cf35-477a-9578-db707a77e00c",
   "metadata": {},
   "outputs": [],
   "source": [
    "#get percent of females using bluelight filter\n",
    "female_bluelight_filter_percentage = len(female_df[female_df['bluelight filter'] == 'yes'])/num_frows"
   ]
  },
  {
   "cell_type": "code",
   "execution_count": 13,
   "id": "4759553c-46c6-4c40-abdc-f941ddc280a5",
   "metadata": {},
   "outputs": [
    {
     "data": {
      "text/html": [
       "<div>\n",
       "<style scoped>\n",
       "    .dataframe tbody tr th:only-of-type {\n",
       "        vertical-align: middle;\n",
       "    }\n",
       "\n",
       "    .dataframe tbody tr th {\n",
       "        vertical-align: top;\n",
       "    }\n",
       "\n",
       "    .dataframe thead th {\n",
       "        text-align: right;\n",
       "    }\n",
       "</style>\n",
       "<table border=\"1\" class=\"dataframe\">\n",
       "  <thead>\n",
       "    <tr style=\"text-align: right;\">\n",
       "      <th></th>\n",
       "      <th>Average Sleep Time</th>\n",
       "      <th>% Using Bluelight</th>\n",
       "      <th>Male Average Sleep Time</th>\n",
       "      <th>Male % Using Bluelight</th>\n",
       "      <th>Female Average Sleep Time</th>\n",
       "      <th>Female % Using Bluelight</th>\n",
       "    </tr>\n",
       "  </thead>\n",
       "  <tbody>\n",
       "    <tr>\n",
       "      <th>0</th>\n",
       "      <td>6.7575</td>\n",
       "      <td>0.543478</td>\n",
       "      <td>6.801731</td>\n",
       "      <td>0.576923</td>\n",
       "      <td>6.916667</td>\n",
       "      <td>0.444444</td>\n",
       "    </tr>\n",
       "  </tbody>\n",
       "</table>\n",
       "</div>"
      ],
      "text/plain": [
       "   Average Sleep Time  % Using Bluelight  Male Average Sleep Time  \\\n",
       "0              6.7575           0.543478                 6.801731   \n",
       "\n",
       "   Male % Using Bluelight  Female Average Sleep Time  Female % Using Bluelight  \n",
       "0                0.576923                   6.916667                  0.444444  "
      ]
     },
     "execution_count": 13,
     "metadata": {},
     "output_type": "execute_result"
    }
   ],
   "source": [
    "#put all data collected into a dataframe\n",
    "gender_summary = pd.DataFrame({'Average Sleep Time': [sleep_time_average], \n",
    "                                 '% Using Bluelight': [bluelight_filter_percentage],\n",
    "                                 'Male Average Sleep Time': [male_sleep_time_average],\n",
    "                                 'Male % Using Bluelight': [male_bluelight_filter_percentage],\n",
    "                                 'Female Average Sleep Time': [female_sleep_time_average],\n",
    "                                 'Female % Using Bluelight': [female_bluelight_filter_percentage]\n",
    "                                })\n",
    "gender_summary"
   ]
  },
  {
   "cell_type": "code",
   "execution_count": 14,
   "id": "39d3225d-d0ca-4c9f-81c4-83e6656e6d72",
   "metadata": {},
   "outputs": [],
   "source": [
    "#get dataframe of those using bluelight\n",
    "using_bluelight_df = df[df['bluelight filter'] == 'yes']"
   ]
  },
  {
   "cell_type": "code",
   "execution_count": 15,
   "id": "6ff01477-17f1-485a-bf46-600410fb429a",
   "metadata": {},
   "outputs": [],
   "source": [
    "#get dataframe of those not using bluelight\n",
    "not_using_bluelight_df = df[df['bluelight filter'] == 'no']"
   ]
  },
  {
   "cell_type": "code",
   "execution_count": 16,
   "id": "a2818bf7-fa53-4b94-ad40-af6ad240b5ac",
   "metadata": {},
   "outputs": [
    {
     "name": "stdout",
     "output_type": "stream",
     "text": [
      "The average sleep time for those using bluelight filters is 6.6606\n"
     ]
    }
   ],
   "source": [
    "#calcutate average sleep time of those using the bluelight filter\n",
    "average_sleep_time_using_blue = using_bluelight_df['sleep time'].mean()\n",
    "print(\"The average sleep time for those using bluelight filters is \" + str(average_sleep_time_using_blue))"
   ]
  },
  {
   "cell_type": "code",
   "execution_count": 17,
   "id": "767db24c-f0e2-469d-b3ef-35a87b34de0a",
   "metadata": {},
   "outputs": [
    {
     "name": "stdout",
     "output_type": "stream",
     "text": [
      "The average sleep time for those not using bluelight filters is 6.872857142857142\n"
     ]
    }
   ],
   "source": [
    "#calcutate average sleep time of those not using the bluelight filter\n",
    "average_sleep_time_not_using_blue = not_using_bluelight_df['sleep time'].mean()\n",
    "print(\"The average sleep time for those not using bluelight filters is \" + str(average_sleep_time_not_using_blue))"
   ]
  },
  {
   "cell_type": "code",
   "execution_count": 18,
   "id": "4ab2b7f5-66e5-4468-83d4-7631572f033a",
   "metadata": {},
   "outputs": [
    {
     "data": {
      "text/plain": [
       "6.6606"
      ]
     },
     "execution_count": 18,
     "metadata": {},
     "output_type": "execute_result"
    }
   ],
   "source": [
    "average_sleep_time_using_blue"
   ]
  },
  {
   "cell_type": "code",
   "execution_count": 19,
   "id": "cc90a1f9-a547-4a86-a4f2-59d0c95483db",
   "metadata": {},
   "outputs": [],
   "source": [
    "data = {'bluelight filter': [average_sleep_time_using_blue],\n",
    "        'no bluelight filter': [average_sleep_time_not_using_blue]}\n",
    "bluelight_df = pd.DataFrame(data)"
   ]
  },
  {
   "cell_type": "code",
   "execution_count": 20,
   "id": "01aaef49-a29c-4c26-9632-b93154bf96fe",
   "metadata": {},
   "outputs": [
    {
     "data": {
      "text/html": [
       "<div>\n",
       "<style scoped>\n",
       "    .dataframe tbody tr th:only-of-type {\n",
       "        vertical-align: middle;\n",
       "    }\n",
       "\n",
       "    .dataframe tbody tr th {\n",
       "        vertical-align: top;\n",
       "    }\n",
       "\n",
       "    .dataframe thead th {\n",
       "        text-align: right;\n",
       "    }\n",
       "</style>\n",
       "<table border=\"1\" class=\"dataframe\">\n",
       "  <thead>\n",
       "    <tr style=\"text-align: right;\">\n",
       "      <th></th>\n",
       "      <th>bluelight filter</th>\n",
       "      <th>no bluelight filter</th>\n",
       "    </tr>\n",
       "  </thead>\n",
       "  <tbody>\n",
       "    <tr>\n",
       "      <th>0</th>\n",
       "      <td>6.6606</td>\n",
       "      <td>6.872857</td>\n",
       "    </tr>\n",
       "  </tbody>\n",
       "</table>\n",
       "</div>"
      ],
      "text/plain": [
       "   bluelight filter  no bluelight filter\n",
       "0            6.6606             6.872857"
      ]
     },
     "execution_count": 20,
     "metadata": {},
     "output_type": "execute_result"
    }
   ],
   "source": [
    "bluelight_df"
   ]
  },
  {
   "cell_type": "code",
   "execution_count": 21,
   "id": "4ce759ed-3a3d-4e99-8efb-9bda575229aa",
   "metadata": {},
   "outputs": [
    {
     "data": {
      "text/plain": [
       "<Axes: >"
      ]
     },
     "execution_count": 21,
     "metadata": {},
     "output_type": "execute_result"
    },
    {
     "data": {
      "image/png": "[encoded data removed]",
      "text/plain": [
       "<Figure size 640x480 with 1 Axes>"
      ]
     },
     "metadata": {},
     "output_type": "display_data"
    }
   ],
   "source": [
    "bluelight_df.plot.bar()"
   ]
  },
  {
   "cell_type": "code",
   "execution_count": 22,
   "id": "2d3dd2e3-2698-44bb-b68f-2f632aed5bd9",
   "metadata": {},
   "outputs": [
    {
     "name": "stdout",
     "output_type": "stream",
     "text": [
      "The average sleep time for those smoking and/or drinking is 7.25\n",
      "The average sleep time for those not smoking/drinking is 6.710595238095237\n"
     ]
    },
    {
     "data": {
      "text/plain": [
       "<Axes: title={'center': 'Smoking and Drinking vs Non Smoking and Drinking'}, ylabel='Sleep Duration'>"
      ]
     },
     "execution_count": 22,
     "metadata": {},
     "output_type": "execute_result"
    },
    {
     "data": {
      "image/png": "[encoded data removed]",
      "text/plain": [
       "<Figure size 640x480 with 1 Axes>"
      ]
     },
     "metadata": {},
     "output_type": "display_data"
    }
   ],
   "source": [
    "#get dataframe of those using bluelight\n",
    "smoke_drink_df = df[df['smoke/drink'] == 'yes']\n",
    "#get dataframe of those not using bluelight\n",
    "not_smoke_drink_df = df[df['smoke/drink'] == 'no']\n",
    "#calcutate average sleep time of those using the bluelight filter\n",
    "average_sleep_time_smoke_drink = smoke_drink_df['sleep time'].mean()\n",
    "print(\"The average sleep time for those smoking and/or drinking is \" + str(average_sleep_time_smoke_drink))\n",
    "#calcutate average sleep time of those not using the bluelight filter\n",
    "average_sleep_time_not_smoke_drink = not_smoke_drink_df['sleep time'].mean()\n",
    "print(\"The average sleep time for those not smoking/drinking is \" + str(average_sleep_time_not_smoke_drink))\n",
    "data = {'smoking and/or drinking': [average_sleep_time_smoke_drink],\n",
    "        'not smoking and/or drinking': [average_sleep_time_not_smoke_drink]}\n",
    "smoking_df = pd.DataFrame(data)\n",
    "smoking_df.plot(kind = 'bar', ylabel = 'Sleep Duration', title = 'Smoking and Drinking vs Non Smoking and Drinking')"
   ]
  },
  {
   "cell_type": "code",
   "execution_count": 23,
   "id": "c455d789-ca7b-4354-af4a-a7d0d8a44a87",
   "metadata": {},
   "outputs": [
    {
     "data": {
      "text/html": [
       "<div>\n",
       "<style scoped>\n",
       "    .dataframe tbody tr th:only-of-type {\n",
       "        vertical-align: middle;\n",
       "    }\n",
       "\n",
       "    .dataframe tbody tr th {\n",
       "        vertical-align: top;\n",
       "    }\n",
       "\n",
       "    .dataframe thead th {\n",
       "        text-align: right;\n",
       "    }\n",
       "</style>\n",
       "<table border=\"1\" class=\"dataframe\">\n",
       "  <thead>\n",
       "    <tr style=\"text-align: right;\">\n",
       "      <th></th>\n",
       "      <th>Age</th>\n",
       "      <th>Gender</th>\n",
       "      <th>meals/day</th>\n",
       "      <th>physical illness</th>\n",
       "      <th>screen time</th>\n",
       "      <th>bluelight filter</th>\n",
       "      <th>sleep direction</th>\n",
       "      <th>exercise</th>\n",
       "      <th>smoke/drink</th>\n",
       "      <th>beverage</th>\n",
       "      <th>sleep time</th>\n",
       "    </tr>\n",
       "  </thead>\n",
       "  <tbody>\n",
       "    <tr>\n",
       "      <th>0</th>\n",
       "      <td>22</td>\n",
       "      <td>Male</td>\n",
       "      <td>two</td>\n",
       "      <td>no</td>\n",
       "      <td>2hrs</td>\n",
       "      <td>yes</td>\n",
       "      <td>west</td>\n",
       "      <td>sometimes</td>\n",
       "      <td>no</td>\n",
       "      <td>Tea</td>\n",
       "      <td>6.7575</td>\n",
       "    </tr>\n",
       "    <tr>\n",
       "      <th>1</th>\n",
       "      <td>22</td>\n",
       "      <td>Female</td>\n",
       "      <td>three</td>\n",
       "      <td>no</td>\n",
       "      <td>3-4 hrs</td>\n",
       "      <td>no</td>\n",
       "      <td>south</td>\n",
       "      <td>no</td>\n",
       "      <td>no</td>\n",
       "      <td>Coffee</td>\n",
       "      <td>8.0000</td>\n",
       "    </tr>\n",
       "    <tr>\n",
       "      <th>2</th>\n",
       "      <td>23</td>\n",
       "      <td>Male</td>\n",
       "      <td>three</td>\n",
       "      <td>no</td>\n",
       "      <td>3-4 hrs</td>\n",
       "      <td>no</td>\n",
       "      <td>south</td>\n",
       "      <td>no</td>\n",
       "      <td>no</td>\n",
       "      <td>Tea</td>\n",
       "      <td>8.0000</td>\n",
       "    </tr>\n",
       "    <tr>\n",
       "      <th>3</th>\n",
       "      <td>23</td>\n",
       "      <td>Female</td>\n",
       "      <td>two</td>\n",
       "      <td>no</td>\n",
       "      <td>1-2 hrs</td>\n",
       "      <td>no</td>\n",
       "      <td>east</td>\n",
       "      <td>sometimes</td>\n",
       "      <td>no</td>\n",
       "      <td>Coffee</td>\n",
       "      <td>6.5000</td>\n",
       "    </tr>\n",
       "    <tr>\n",
       "      <th>4</th>\n",
       "      <td>22</td>\n",
       "      <td>Male</td>\n",
       "      <td>three</td>\n",
       "      <td>no</td>\n",
       "      <td>more than 5</td>\n",
       "      <td>yes</td>\n",
       "      <td>east</td>\n",
       "      <td>sometimes</td>\n",
       "      <td>yes</td>\n",
       "      <td>Tea and Coffee both</td>\n",
       "      <td>6.0000</td>\n",
       "    </tr>\n",
       "    <tr>\n",
       "      <th>5</th>\n",
       "      <td>22</td>\n",
       "      <td>Male</td>\n",
       "      <td>two</td>\n",
       "      <td>no</td>\n",
       "      <td>2-3 hrs</td>\n",
       "      <td>yes</td>\n",
       "      <td>west</td>\n",
       "      <td>sometimes</td>\n",
       "      <td>no</td>\n",
       "      <td>Tea</td>\n",
       "      <td>6.7575</td>\n",
       "    </tr>\n",
       "    <tr>\n",
       "      <th>6</th>\n",
       "      <td>22</td>\n",
       "      <td>Male</td>\n",
       "      <td>four</td>\n",
       "      <td>no</td>\n",
       "      <td>1-2 hrs</td>\n",
       "      <td>yes</td>\n",
       "      <td>south</td>\n",
       "      <td>yes</td>\n",
       "      <td>no</td>\n",
       "      <td>none of the above</td>\n",
       "      <td>7.0000</td>\n",
       "    </tr>\n",
       "    <tr>\n",
       "      <th>7</th>\n",
       "      <td>24</td>\n",
       "      <td>Female</td>\n",
       "      <td>three</td>\n",
       "      <td>yes</td>\n",
       "      <td>4-5 hrs</td>\n",
       "      <td>no</td>\n",
       "      <td>east</td>\n",
       "      <td>sometimes</td>\n",
       "      <td>no</td>\n",
       "      <td>Tea</td>\n",
       "      <td>6.5000</td>\n",
       "    </tr>\n",
       "    <tr>\n",
       "      <th>8</th>\n",
       "      <td>24</td>\n",
       "      <td>Male</td>\n",
       "      <td>four</td>\n",
       "      <td>no</td>\n",
       "      <td>2-3 hrs</td>\n",
       "      <td>yes</td>\n",
       "      <td>east</td>\n",
       "      <td>yes</td>\n",
       "      <td>no</td>\n",
       "      <td>none of the above</td>\n",
       "      <td>8.0000</td>\n",
       "    </tr>\n",
       "    <tr>\n",
       "      <th>9</th>\n",
       "      <td>23</td>\n",
       "      <td>Female</td>\n",
       "      <td>three</td>\n",
       "      <td>no</td>\n",
       "      <td>more than 5</td>\n",
       "      <td>yes</td>\n",
       "      <td>north</td>\n",
       "      <td>yes</td>\n",
       "      <td>yes</td>\n",
       "      <td>Tea and Coffee both</td>\n",
       "      <td>7.0000</td>\n",
       "    </tr>\n",
       "    <tr>\n",
       "      <th>10</th>\n",
       "      <td>28</td>\n",
       "      <td>Female</td>\n",
       "      <td>three</td>\n",
       "      <td>no</td>\n",
       "      <td>0-1 hrs</td>\n",
       "      <td>yes</td>\n",
       "      <td>north</td>\n",
       "      <td>yes</td>\n",
       "      <td>no</td>\n",
       "      <td>Tea</td>\n",
       "      <td>6.5000</td>\n",
       "    </tr>\n",
       "    <tr>\n",
       "      <th>11</th>\n",
       "      <td>59</td>\n",
       "      <td>Male</td>\n",
       "      <td>two</td>\n",
       "      <td>no</td>\n",
       "      <td>0-1 hrs</td>\n",
       "      <td>no</td>\n",
       "      <td>west</td>\n",
       "      <td>no</td>\n",
       "      <td>no</td>\n",
       "      <td>Tea</td>\n",
       "      <td>6.0000</td>\n",
       "    </tr>\n",
       "    <tr>\n",
       "      <th>12</th>\n",
       "      <td>23</td>\n",
       "      <td>Female</td>\n",
       "      <td>three</td>\n",
       "      <td>no</td>\n",
       "      <td>4-5 hrs</td>\n",
       "      <td>no</td>\n",
       "      <td>west</td>\n",
       "      <td>sometimes</td>\n",
       "      <td>no</td>\n",
       "      <td>Tea</td>\n",
       "      <td>8.0000</td>\n",
       "    </tr>\n",
       "    <tr>\n",
       "      <th>13</th>\n",
       "      <td>25</td>\n",
       "      <td>Prefer not to say</td>\n",
       "      <td>more than 5</td>\n",
       "      <td>no</td>\n",
       "      <td>more than 5</td>\n",
       "      <td>yes</td>\n",
       "      <td>east</td>\n",
       "      <td>yes</td>\n",
       "      <td>no</td>\n",
       "      <td>Coffee</td>\n",
       "      <td>1.5000</td>\n",
       "    </tr>\n",
       "    <tr>\n",
       "      <th>14</th>\n",
       "      <td>23</td>\n",
       "      <td>Male</td>\n",
       "      <td>three</td>\n",
       "      <td>no</td>\n",
       "      <td>3-4 hrs</td>\n",
       "      <td>no</td>\n",
       "      <td>north</td>\n",
       "      <td>sometimes</td>\n",
       "      <td>no</td>\n",
       "      <td>Coffee</td>\n",
       "      <td>8.0000</td>\n",
       "    </tr>\n",
       "    <tr>\n",
       "      <th>15</th>\n",
       "      <td>23</td>\n",
       "      <td>Female</td>\n",
       "      <td>two</td>\n",
       "      <td>no</td>\n",
       "      <td>2-3 hrs</td>\n",
       "      <td>yes</td>\n",
       "      <td>west</td>\n",
       "      <td>yes</td>\n",
       "      <td>no</td>\n",
       "      <td>none of the above</td>\n",
       "      <td>8.0000</td>\n",
       "    </tr>\n",
       "    <tr>\n",
       "      <th>16</th>\n",
       "      <td>24</td>\n",
       "      <td>Male</td>\n",
       "      <td>three</td>\n",
       "      <td>no</td>\n",
       "      <td>more than 5</td>\n",
       "      <td>no</td>\n",
       "      <td>west</td>\n",
       "      <td>no</td>\n",
       "      <td>no</td>\n",
       "      <td>none of the above</td>\n",
       "      <td>7.0000</td>\n",
       "    </tr>\n",
       "    <tr>\n",
       "      <th>17</th>\n",
       "      <td>24</td>\n",
       "      <td>Male</td>\n",
       "      <td>two</td>\n",
       "      <td>no</td>\n",
       "      <td>more than 5</td>\n",
       "      <td>yes</td>\n",
       "      <td>north</td>\n",
       "      <td>sometimes</td>\n",
       "      <td>no</td>\n",
       "      <td>none of the above</td>\n",
       "      <td>8.0000</td>\n",
       "    </tr>\n",
       "    <tr>\n",
       "      <th>18</th>\n",
       "      <td>23</td>\n",
       "      <td>Male</td>\n",
       "      <td>three</td>\n",
       "      <td>no</td>\n",
       "      <td>1-2 hrs</td>\n",
       "      <td>yes</td>\n",
       "      <td>west</td>\n",
       "      <td>yes</td>\n",
       "      <td>yes</td>\n",
       "      <td>Tea</td>\n",
       "      <td>8.0000</td>\n",
       "    </tr>\n",
       "    <tr>\n",
       "      <th>19</th>\n",
       "      <td>22</td>\n",
       "      <td>Male</td>\n",
       "      <td>two</td>\n",
       "      <td>yes</td>\n",
       "      <td>2-3 hrs</td>\n",
       "      <td>yes</td>\n",
       "      <td>south</td>\n",
       "      <td>sometimes</td>\n",
       "      <td>no</td>\n",
       "      <td>Tea</td>\n",
       "      <td>7.0000</td>\n",
       "    </tr>\n",
       "    <tr>\n",
       "      <th>20</th>\n",
       "      <td>23</td>\n",
       "      <td>Male</td>\n",
       "      <td>three</td>\n",
       "      <td>no</td>\n",
       "      <td>more than 5</td>\n",
       "      <td>yes</td>\n",
       "      <td>west</td>\n",
       "      <td>no</td>\n",
       "      <td>no</td>\n",
       "      <td>Tea</td>\n",
       "      <td>7.0000</td>\n",
       "    </tr>\n",
       "    <tr>\n",
       "      <th>21</th>\n",
       "      <td>39</td>\n",
       "      <td>Female</td>\n",
       "      <td>five</td>\n",
       "      <td>no</td>\n",
       "      <td>2-3 hrs</td>\n",
       "      <td>yes</td>\n",
       "      <td>west</td>\n",
       "      <td>no</td>\n",
       "      <td>no</td>\n",
       "      <td>Tea and Coffee both</td>\n",
       "      <td>6.0000</td>\n",
       "    </tr>\n",
       "    <tr>\n",
       "      <th>22</th>\n",
       "      <td>23</td>\n",
       "      <td>Female</td>\n",
       "      <td>three</td>\n",
       "      <td>no</td>\n",
       "      <td>3-4 hrs</td>\n",
       "      <td>no</td>\n",
       "      <td>north</td>\n",
       "      <td>sometimes</td>\n",
       "      <td>no</td>\n",
       "      <td>Tea</td>\n",
       "      <td>7.0000</td>\n",
       "    </tr>\n",
       "    <tr>\n",
       "      <th>23</th>\n",
       "      <td>25</td>\n",
       "      <td>Female</td>\n",
       "      <td>two</td>\n",
       "      <td>no</td>\n",
       "      <td>more than 5</td>\n",
       "      <td>no</td>\n",
       "      <td>south</td>\n",
       "      <td>sometimes</td>\n",
       "      <td>no</td>\n",
       "      <td>none of the above</td>\n",
       "      <td>7.0000</td>\n",
       "    </tr>\n",
       "    <tr>\n",
       "      <th>24</th>\n",
       "      <td>23</td>\n",
       "      <td>Male</td>\n",
       "      <td>three</td>\n",
       "      <td>no</td>\n",
       "      <td>more than 5</td>\n",
       "      <td>no</td>\n",
       "      <td>north</td>\n",
       "      <td>sometimes</td>\n",
       "      <td>no</td>\n",
       "      <td>Tea</td>\n",
       "      <td>7.0000</td>\n",
       "    </tr>\n",
       "    <tr>\n",
       "      <th>25</th>\n",
       "      <td>22</td>\n",
       "      <td>Male</td>\n",
       "      <td>four</td>\n",
       "      <td>no</td>\n",
       "      <td>1-2 hrs</td>\n",
       "      <td>yes</td>\n",
       "      <td>north</td>\n",
       "      <td>sometimes</td>\n",
       "      <td>no</td>\n",
       "      <td>Tea and Coffee both</td>\n",
       "      <td>5.0000</td>\n",
       "    </tr>\n",
       "    <tr>\n",
       "      <th>26</th>\n",
       "      <td>25</td>\n",
       "      <td>Female</td>\n",
       "      <td>three</td>\n",
       "      <td>no</td>\n",
       "      <td>2-3 hrs</td>\n",
       "      <td>no</td>\n",
       "      <td>east</td>\n",
       "      <td>sometimes</td>\n",
       "      <td>no</td>\n",
       "      <td>Tea and Coffee both</td>\n",
       "      <td>5.0000</td>\n",
       "    </tr>\n",
       "    <tr>\n",
       "      <th>27</th>\n",
       "      <td>50</td>\n",
       "      <td>Male</td>\n",
       "      <td>two</td>\n",
       "      <td>no</td>\n",
       "      <td>1-2 hrs</td>\n",
       "      <td>no</td>\n",
       "      <td>west</td>\n",
       "      <td>yes</td>\n",
       "      <td>no</td>\n",
       "      <td>none of the above</td>\n",
       "      <td>8.0000</td>\n",
       "    </tr>\n",
       "    <tr>\n",
       "      <th>28</th>\n",
       "      <td>23</td>\n",
       "      <td>Female</td>\n",
       "      <td>three</td>\n",
       "      <td>no</td>\n",
       "      <td>more than 5</td>\n",
       "      <td>yes</td>\n",
       "      <td>west</td>\n",
       "      <td>no</td>\n",
       "      <td>no</td>\n",
       "      <td>Tea</td>\n",
       "      <td>7.0000</td>\n",
       "    </tr>\n",
       "    <tr>\n",
       "      <th>29</th>\n",
       "      <td>20</td>\n",
       "      <td>Male</td>\n",
       "      <td>one</td>\n",
       "      <td>no</td>\n",
       "      <td>4-5 hrs</td>\n",
       "      <td>no</td>\n",
       "      <td>west</td>\n",
       "      <td>no</td>\n",
       "      <td>no</td>\n",
       "      <td>Coffee</td>\n",
       "      <td>3.3300</td>\n",
       "    </tr>\n",
       "    <tr>\n",
       "      <th>30</th>\n",
       "      <td>23</td>\n",
       "      <td>Female</td>\n",
       "      <td>two</td>\n",
       "      <td>no</td>\n",
       "      <td>2-3 hrs</td>\n",
       "      <td>no</td>\n",
       "      <td>west</td>\n",
       "      <td>no</td>\n",
       "      <td>no</td>\n",
       "      <td>Tea</td>\n",
       "      <td>9.0000</td>\n",
       "    </tr>\n",
       "    <tr>\n",
       "      <th>31</th>\n",
       "      <td>23</td>\n",
       "      <td>Female</td>\n",
       "      <td>three</td>\n",
       "      <td>no</td>\n",
       "      <td>4-5 hrs</td>\n",
       "      <td>yes</td>\n",
       "      <td>east</td>\n",
       "      <td>yes</td>\n",
       "      <td>no</td>\n",
       "      <td>Tea</td>\n",
       "      <td>7.0000</td>\n",
       "    </tr>\n",
       "    <tr>\n",
       "      <th>32</th>\n",
       "      <td>23</td>\n",
       "      <td>Female</td>\n",
       "      <td>three</td>\n",
       "      <td>no</td>\n",
       "      <td>3-4 hrs</td>\n",
       "      <td>no</td>\n",
       "      <td>east</td>\n",
       "      <td>sometimes</td>\n",
       "      <td>no</td>\n",
       "      <td>Tea and Coffee both</td>\n",
       "      <td>6.0000</td>\n",
       "    </tr>\n",
       "    <tr>\n",
       "      <th>33</th>\n",
       "      <td>22</td>\n",
       "      <td>Male</td>\n",
       "      <td>one</td>\n",
       "      <td>no</td>\n",
       "      <td>4-5 hrs</td>\n",
       "      <td>no</td>\n",
       "      <td>north</td>\n",
       "      <td>sometimes</td>\n",
       "      <td>no</td>\n",
       "      <td>Tea and Coffee both</td>\n",
       "      <td>8.0000</td>\n",
       "    </tr>\n",
       "    <tr>\n",
       "      <th>34</th>\n",
       "      <td>22</td>\n",
       "      <td>Male</td>\n",
       "      <td>two</td>\n",
       "      <td>no</td>\n",
       "      <td>1-2 hrs</td>\n",
       "      <td>yes</td>\n",
       "      <td>north</td>\n",
       "      <td>sometimes</td>\n",
       "      <td>no</td>\n",
       "      <td>Tea</td>\n",
       "      <td>7.0000</td>\n",
       "    </tr>\n",
       "    <tr>\n",
       "      <th>35</th>\n",
       "      <td>21</td>\n",
       "      <td>Male</td>\n",
       "      <td>one</td>\n",
       "      <td>yes</td>\n",
       "      <td>more than 5</td>\n",
       "      <td>yes</td>\n",
       "      <td>west</td>\n",
       "      <td>no</td>\n",
       "      <td>no</td>\n",
       "      <td>none of the above</td>\n",
       "      <td>7.0000</td>\n",
       "    </tr>\n",
       "    <tr>\n",
       "      <th>36</th>\n",
       "      <td>24</td>\n",
       "      <td>Male</td>\n",
       "      <td>two</td>\n",
       "      <td>no</td>\n",
       "      <td>more than 5</td>\n",
       "      <td>no</td>\n",
       "      <td>west</td>\n",
       "      <td>sometimes</td>\n",
       "      <td>no</td>\n",
       "      <td>none of the above</td>\n",
       "      <td>7.0000</td>\n",
       "    </tr>\n",
       "    <tr>\n",
       "      <th>37</th>\n",
       "      <td>25</td>\n",
       "      <td>Male</td>\n",
       "      <td>two</td>\n",
       "      <td>no</td>\n",
       "      <td>2-3 hrs</td>\n",
       "      <td>yes</td>\n",
       "      <td>east</td>\n",
       "      <td>sometimes</td>\n",
       "      <td>no</td>\n",
       "      <td>Tea</td>\n",
       "      <td>7.0000</td>\n",
       "    </tr>\n",
       "    <tr>\n",
       "      <th>38</th>\n",
       "      <td>22</td>\n",
       "      <td>Male</td>\n",
       "      <td>two</td>\n",
       "      <td>no</td>\n",
       "      <td>4-5 hrs</td>\n",
       "      <td>yes</td>\n",
       "      <td>east</td>\n",
       "      <td>no</td>\n",
       "      <td>no</td>\n",
       "      <td>Tea</td>\n",
       "      <td>7.0000</td>\n",
       "    </tr>\n",
       "    <tr>\n",
       "      <th>39</th>\n",
       "      <td>23</td>\n",
       "      <td>Female</td>\n",
       "      <td>three</td>\n",
       "      <td>no</td>\n",
       "      <td>more than 5</td>\n",
       "      <td>yes</td>\n",
       "      <td>west</td>\n",
       "      <td>yes</td>\n",
       "      <td>no</td>\n",
       "      <td>Coffee</td>\n",
       "      <td>6.0000</td>\n",
       "    </tr>\n",
       "    <tr>\n",
       "      <th>40</th>\n",
       "      <td>22</td>\n",
       "      <td>Female</td>\n",
       "      <td>two</td>\n",
       "      <td>no</td>\n",
       "      <td>3-4 hrs</td>\n",
       "      <td>no</td>\n",
       "      <td>south</td>\n",
       "      <td>yes</td>\n",
       "      <td>no</td>\n",
       "      <td>Tea</td>\n",
       "      <td>6.0000</td>\n",
       "    </tr>\n",
       "    <tr>\n",
       "      <th>41</th>\n",
       "      <td>22</td>\n",
       "      <td>Male</td>\n",
       "      <td>three</td>\n",
       "      <td>no</td>\n",
       "      <td>3-4 hrs</td>\n",
       "      <td>no</td>\n",
       "      <td>east</td>\n",
       "      <td>sometimes</td>\n",
       "      <td>no</td>\n",
       "      <td>Tea</td>\n",
       "      <td>6.0000</td>\n",
       "    </tr>\n",
       "    <tr>\n",
       "      <th>42</th>\n",
       "      <td>21</td>\n",
       "      <td>Male</td>\n",
       "      <td>two</td>\n",
       "      <td>no</td>\n",
       "      <td>more than 5</td>\n",
       "      <td>no</td>\n",
       "      <td>east</td>\n",
       "      <td>sometimes</td>\n",
       "      <td>no</td>\n",
       "      <td>Tea</td>\n",
       "      <td>7.0000</td>\n",
       "    </tr>\n",
       "    <tr>\n",
       "      <th>43</th>\n",
       "      <td>24</td>\n",
       "      <td>Male</td>\n",
       "      <td>three</td>\n",
       "      <td>no</td>\n",
       "      <td>more than 5</td>\n",
       "      <td>yes</td>\n",
       "      <td>east</td>\n",
       "      <td>sometimes</td>\n",
       "      <td>no</td>\n",
       "      <td>none of the above</td>\n",
       "      <td>4.0000</td>\n",
       "    </tr>\n",
       "    <tr>\n",
       "      <th>44</th>\n",
       "      <td>25</td>\n",
       "      <td>Prefer not to say</td>\n",
       "      <td>three</td>\n",
       "      <td>yes</td>\n",
       "      <td>more than 5</td>\n",
       "      <td>yes</td>\n",
       "      <td>east</td>\n",
       "      <td>yes</td>\n",
       "      <td>yes</td>\n",
       "      <td>Tea and Coffee both</td>\n",
       "      <td>8.0000</td>\n",
       "    </tr>\n",
       "    <tr>\n",
       "      <th>45</th>\n",
       "      <td>23</td>\n",
       "      <td>Female</td>\n",
       "      <td>three</td>\n",
       "      <td>no</td>\n",
       "      <td>more than 5</td>\n",
       "      <td>yes</td>\n",
       "      <td>east</td>\n",
       "      <td>sometimes</td>\n",
       "      <td>no</td>\n",
       "      <td>Tea</td>\n",
       "      <td>8.0000</td>\n",
       "    </tr>\n",
       "  </tbody>\n",
       "</table>\n",
       "</div>"
      ],
      "text/plain": [
       "    Age             Gender    meals/day physical illness  screen time  \\\n",
       "0    22               Male          two               no         2hrs   \n",
       "1    22             Female        three               no      3-4 hrs   \n",
       "2    23               Male        three               no      3-4 hrs   \n",
       "3    23             Female          two               no      1-2 hrs   \n",
       "4    22               Male        three               no  more than 5   \n",
       "5    22               Male          two               no      2-3 hrs   \n",
       "6    22               Male         four               no      1-2 hrs   \n",
       "7    24             Female        three              yes      4-5 hrs   \n",
       "8    24               Male         four               no      2-3 hrs   \n",
       "9    23             Female        three               no  more than 5   \n",
       "10   28             Female        three               no      0-1 hrs   \n",
       "11   59               Male          two               no      0-1 hrs   \n",
       "12   23             Female        three               no      4-5 hrs   \n",
       "13   25  Prefer not to say  more than 5               no  more than 5   \n",
       "14   23               Male        three               no      3-4 hrs   \n",
       "15   23             Female          two               no      2-3 hrs   \n",
       "16   24               Male        three               no  more than 5   \n",
       "17   24               Male          two               no  more than 5   \n",
       "18   23               Male        three               no      1-2 hrs   \n",
       "19   22               Male          two              yes      2-3 hrs   \n",
       "20   23               Male        three               no  more than 5   \n",
       "21   39             Female         five               no      2-3 hrs   \n",
       "22   23             Female        three               no      3-4 hrs   \n",
       "23   25             Female          two               no  more than 5   \n",
       "24   23               Male        three               no  more than 5   \n",
       "25   22               Male         four               no      1-2 hrs   \n",
       "26   25             Female        three               no      2-3 hrs   \n",
       "27   50               Male          two               no      1-2 hrs   \n",
       "28   23             Female        three               no  more than 5   \n",
       "29   20               Male          one               no      4-5 hrs   \n",
       "30   23             Female          two               no      2-3 hrs   \n",
       "31   23             Female        three               no      4-5 hrs   \n",
       "32   23             Female        three               no      3-4 hrs   \n",
       "33   22               Male          one               no      4-5 hrs   \n",
       "34   22               Male          two               no      1-2 hrs   \n",
       "35   21               Male          one              yes  more than 5   \n",
       "36   24               Male          two               no  more than 5   \n",
       "37   25               Male          two               no      2-3 hrs   \n",
       "38   22               Male          two               no      4-5 hrs   \n",
       "39   23             Female        three               no  more than 5   \n",
       "40   22             Female          two               no      3-4 hrs   \n",
       "41   22               Male        three               no      3-4 hrs   \n",
       "42   21               Male          two               no  more than 5   \n",
       "43   24               Male        three               no  more than 5   \n",
       "44   25  Prefer not to say        three              yes  more than 5   \n",
       "45   23             Female        three               no  more than 5   \n",
       "\n",
       "   bluelight filter sleep direction   exercise smoke/drink  \\\n",
       "0               yes            west  sometimes          no   \n",
       "1                no           south         no          no   \n",
       "2                no           south         no          no   \n",
       "3                no            east  sometimes          no   \n",
       "4               yes            east  sometimes         yes   \n",
       "5               yes            west  sometimes          no   \n",
       "6               yes           south        yes          no   \n",
       "7                no            east  sometimes          no   \n",
       "8               yes            east        yes          no   \n",
       "9               yes           north        yes         yes   \n",
       "10              yes           north        yes          no   \n",
       "11               no            west         no          no   \n",
       "12               no            west  sometimes          no   \n",
       "13              yes            east        yes          no   \n",
       "14               no           north  sometimes          no   \n",
       "15              yes            west        yes          no   \n",
       "16               no            west         no          no   \n",
       "17              yes           north  sometimes          no   \n",
       "18              yes            west        yes         yes   \n",
       "19              yes           south  sometimes          no   \n",
       "20              yes            west         no          no   \n",
       "21              yes            west         no          no   \n",
       "22               no           north  sometimes          no   \n",
       "23               no           south  sometimes          no   \n",
       "24               no           north  sometimes          no   \n",
       "25              yes           north  sometimes          no   \n",
       "26               no            east  sometimes          no   \n",
       "27               no            west        yes          no   \n",
       "28              yes            west         no          no   \n",
       "29               no            west         no          no   \n",
       "30               no            west         no          no   \n",
       "31              yes            east        yes          no   \n",
       "32               no            east  sometimes          no   \n",
       "33               no           north  sometimes          no   \n",
       "34              yes           north  sometimes          no   \n",
       "35              yes            west         no          no   \n",
       "36               no            west  sometimes          no   \n",
       "37              yes            east  sometimes          no   \n",
       "38              yes            east         no          no   \n",
       "39              yes            west        yes          no   \n",
       "40               no           south        yes          no   \n",
       "41               no            east  sometimes          no   \n",
       "42               no            east  sometimes          no   \n",
       "43              yes            east  sometimes          no   \n",
       "44              yes            east        yes         yes   \n",
       "45              yes            east  sometimes          no   \n",
       "\n",
       "               beverage  sleep time  \n",
       "0                   Tea      6.7575  \n",
       "1                Coffee      8.0000  \n",
       "2                   Tea      8.0000  \n",
       "3                Coffee      6.5000  \n",
       "4   Tea and Coffee both      6.0000  \n",
       "5                   Tea      6.7575  \n",
       "6     none of the above      7.0000  \n",
       "7                   Tea      6.5000  \n",
       "8     none of the above      8.0000  \n",
       "9   Tea and Coffee both      7.0000  \n",
       "10                  Tea      6.5000  \n",
       "11                  Tea      6.0000  \n",
       "12                  Tea      8.0000  \n",
       "13               Coffee      1.5000  \n",
       "14               Coffee      8.0000  \n",
       "15    none of the above      8.0000  \n",
       "16    none of the above      7.0000  \n",
       "17    none of the above      8.0000  \n",
       "18                  Tea      8.0000  \n",
       "19                  Tea      7.0000  \n",
       "20                  Tea      7.0000  \n",
       "21  Tea and Coffee both      6.0000  \n",
       "22                  Tea      7.0000  \n",
       "23    none of the above      7.0000  \n",
       "24                  Tea      7.0000  \n",
       "25  Tea and Coffee both      5.0000  \n",
       "26  Tea and Coffee both      5.0000  \n",
       "27    none of the above      8.0000  \n",
       "28                  Tea      7.0000  \n",
       "29               Coffee      3.3300  \n",
       "30                  Tea      9.0000  \n",
       "31                  Tea      7.0000  \n",
       "32  Tea and Coffee both      6.0000  \n",
       "33  Tea and Coffee both      8.0000  \n",
       "34                  Tea      7.0000  \n",
       "35    none of the above      7.0000  \n",
       "36    none of the above      7.0000  \n",
       "37                  Tea      7.0000  \n",
       "38                  Tea      7.0000  \n",
       "39               Coffee      6.0000  \n",
       "40                  Tea      6.0000  \n",
       "41                  Tea      6.0000  \n",
       "42                  Tea      7.0000  \n",
       "43    none of the above      4.0000  \n",
       "44  Tea and Coffee both      8.0000  \n",
       "45                  Tea      8.0000  "
      ]
     },
     "execution_count": 23,
     "metadata": {},
     "output_type": "execute_result"
    }
   ],
   "source": [
    "df\n"
   ]
  },
  {
   "cell_type": "code",
   "execution_count": 24,
   "id": "9a4e9126-7504-4200-9791-66529d333800",
   "metadata": {},
   "outputs": [],
   "source": [
    "direction = df.groupby('sleep direction')['sleep time'].mean()"
   ]
  },
  {
   "cell_type": "code",
   "execution_count": 25,
   "id": "48c9d124-e02e-4676-a271-169a8528468b",
   "metadata": {},
   "outputs": [
    {
     "data": {
      "text/plain": [
       "<Axes: xlabel='sleep direction'>"
      ]
     },
     "execution_count": 25,
     "metadata": {},
     "output_type": "execute_result"
    },
    {
     "data": {
      "image/png": "[encoded data removed]",
      "text/plain": [
       "<Figure size 640x480 with 1 Axes>"
      ]
     },
     "metadata": {},
     "output_type": "display_data"
    }
   ],
   "source": [
    "direction.plot.bar()"
   ]
  },
  {
   "cell_type": "code",
   "execution_count": 26,
   "id": "9cd502ea-9e20-4013-b381-564d5a343a14",
   "metadata": {},
   "outputs": [
    {
     "data": {
      "text/plain": [
       "<Axes: xlabel='screen time'>"
      ]
     },
     "execution_count": 26,
     "metadata": {},
     "output_type": "execute_result"
    },
    {
     "data": {
      "image/png": "[encoded data removed]",
      "text/plain": [
       "<Figure size 640x480 with 1 Axes>"
      ]
     },
     "metadata": {},
     "output_type": "display_data"
    }
   ],
   "source": [
    "direction = df.groupby('screen time')['sleep time'].mean()\n",
    "direction.plot.bar()"
   ]
  },
  {
   "cell_type": "code",
   "execution_count": 27,
   "id": "298cbbae-f957-46a5-a2b8-9862a755ed1c",
   "metadata": {},
   "outputs": [
    {
     "data": {
      "text/plain": [
       "<Axes: xlabel='Age'>"
      ]
     },
     "execution_count": 27,
     "metadata": {},
     "output_type": "execute_result"
    },
    {
     "data": {
      "image/png": "[encoded data removed]",
      "text/plain": [
       "<Figure size 640x480 with 1 Axes>"
      ]
     },
     "metadata": {},
     "output_type": "display_data"
    }
   ],
   "source": [
    "direction = df.groupby('Age')['sleep time'].mean()\n",
    "direction.plot.bar()"
   ]
  },
  {
   "cell_type": "code",
   "execution_count": 28,
   "id": "ae0b0a7e-28e3-4298-a0b3-8f5f9e606ee1",
   "metadata": {},
   "outputs": [
    {
     "data": {
      "text/plain": [
       "<Axes: xlabel='Gender'>"
      ]
     },
     "execution_count": 28,
     "metadata": {},
     "output_type": "execute_result"
    },
    {
     "data": {
      "image/png": "[encoded data removed]",
      "text/plain": [
       "<Figure size 640x480 with 1 Axes>"
      ]
     },
     "metadata": {},
     "output_type": "display_data"
    }
   ],
   "source": [
    "direction = df.groupby('Gender')['sleep time'].mean()\n",
    "direction.plot.bar()"
   ]
  },
  {
   "cell_type": "code",
   "execution_count": 29,
   "id": "242f347c-eb15-4a6d-a45d-3bc285cfeda1",
   "metadata": {},
   "outputs": [
    {
     "data": {
      "text/plain": [
       "<Axes: xlabel='meals/day'>"
      ]
     },
     "execution_count": 29,
     "metadata": {},
     "output_type": "execute_result"
    },
    {
     "data": {
      "image/png": "[encoded data removed]",
      "text/plain": [
       "<Figure size 640x480 with 1 Axes>"
      ]
     },
     "metadata": {},
     "output_type": "display_data"
    }
   ],
   "source": [
    "direction = df.groupby('meals/day')['sleep time'].mean()\n",
    "direction.plot.bar()"
   ]
  },
  {
   "cell_type": "code",
   "execution_count": 30,
   "id": "7bdf0592-716d-48bf-8286-a4885a497c0b",
   "metadata": {},
   "outputs": [
    {
     "data": {
      "text/plain": [
       "<Axes: xlabel='physical illness'>"
      ]
     },
     "execution_count": 30,
     "metadata": {},
     "output_type": "execute_result"
    },
    {
     "data": {
      "image/png": "[encoded data removed]",
      "text/plain": [
       "<Figure size 640x480 with 1 Axes>"
      ]
     },
     "metadata": {},
     "output_type": "display_data"
    }
   ],
   "source": [
    "direction = df.groupby('physical illness')['sleep time'].mean()\n",
    "direction.plot.bar()"
   ]
  },
  {
   "cell_type": "code",
   "execution_count": 32,
   "id": "3d7560e9-2055-4dc9-9f18-e36cb5bf23bc",
   "metadata": {},
   "outputs": [
    {
     "data": {
      "image/png": "[encoded data removed]",
      "text/plain": [
       "<Figure size 640x480 with 1 Axes>"
      ]
     },
     "metadata": {},
     "output_type": "display_data"
    }
   ],
   "source": [
    "colors = ['#0000FF',  #Blue\n",
    "          '#FFA500',\n",
    "         '#228B22',]  #Orange\n",
    "direction = df.groupby('exercise')['sleep time'].mean()\n",
    "direction = direction.sort_values(ascending = False)\n",
    "direction.plot(kind = 'bar', ylabel = 'Sleep Duration', title = 'Exercise vs Sleep Duration', color = colors)\n",
    "plt.tight_layout()\n",
    "plt.savefig(\"../figures/fig8\")"
   ]
  },
  {
   "cell_type": "code",
   "execution_count": 33,
   "id": "81d2ea0d-8df0-43ef-839d-f75ed19e618e",
   "metadata": {},
   "outputs": [
    {
     "data": {
      "text/plain": [
       "exercise\n",
       "no           6.848182\n",
       "yes          6.750000\n",
       "sometimes    6.718043\n",
       "Name: sleep time, dtype: float64"
      ]
     },
     "execution_count": 33,
     "metadata": {},
     "output_type": "execute_result"
    }
   ],
   "source": [
    "direction"
   ]
  },
  {
   "cell_type": "code",
   "execution_count": 35,
   "id": "94708844-3394-4e2a-99ae-3f8a5731df57",
   "metadata": {},
   "outputs": [
    {
     "data": {
      "image/png": "[encoded data removed]",
      "text/plain": [
       "<Figure size 640x480 with 1 Axes>"
      ]
     },
     "metadata": {},
     "output_type": "display_data"
    }
   ],
   "source": [
    "colors = ['#0000FF',  #Blue\n",
    "          '#FFA500',\n",
    "         '#228B22',\n",
    "            '#800080']\n",
    "direction = df.groupby('beverage')['sleep time'].mean()\n",
    "direction = direction.sort_values()\n",
    "direction.plot(kind = 'bar', ylabel = 'Stress Level', title = 'Beverage vs Sleep Duration', color = colors)\n",
    "plt.ylabel(\"Sleep Durantion\")\n",
    "plt.tight_layout()\n",
    "plt.savefig(\"../figures/fig7\")"
   ]
  },
  {
   "cell_type": "code",
   "execution_count": 36,
   "id": "af2c2b41-b12d-4401-a478-7a391f096d31",
   "metadata": {},
   "outputs": [
    {
     "data": {
      "text/plain": [
       "beverage\n",
       "Coffee                 5.555000\n",
       "Tea and Coffee both    6.375000\n",
       "Tea                    7.068864\n",
       "none of the above      7.100000\n",
       "Name: sleep time, dtype: float64"
      ]
     },
     "execution_count": 36,
     "metadata": {},
     "output_type": "execute_result"
    }
   ],
   "source": [
    "direction"
   ]
  },
  {
   "cell_type": "code",
   "execution_count": 38,
   "id": "48d57371-e9da-46ac-a2bf-ee83cbe64b28",
   "metadata": {},
   "outputs": [
    {
     "data": {
      "image/png": "[encoded data removed]",
      "text/plain": [
       "<Figure size 640x480 with 1 Axes>"
      ]
     },
     "metadata": {},
     "output_type": "display_data"
    }
   ],
   "source": [
    "colors = ['#0000FF',  #Blue\n",
    "          '#FFA500']  #Orange\n",
    "direction = df.groupby('smoke/drink')['sleep time'].mean()\n",
    "direction = direction.sort_values()\n",
    "direction.plot(kind = 'bar', ylabel = 'Stress Level', title = 'Smoke/Drink vs Sleep Duration', color = colors)\n",
    "plt.ylabel(\"Sleep Durantion\")\n",
    "plt.savefig(\"../figures/fig9\")"
   ]
  },
  {
   "cell_type": "code",
   "execution_count": 39,
   "id": "80da1510-e568-4c7d-8a87-acf7befe1c64",
   "metadata": {},
   "outputs": [
    {
     "data": {
      "text/plain": [
       "smoke/drink\n",
       "no     6.710595\n",
       "yes    7.250000\n",
       "Name: sleep time, dtype: float64"
      ]
     },
     "execution_count": 39,
     "metadata": {},
     "output_type": "execute_result"
    }
   ],
   "source": [
    "direction"
   ]
  },
  {
   "cell_type": "code",
   "execution_count": 41,
   "id": "7112be4a-e6f8-41a3-85e5-1f3e0a2480dd",
   "metadata": {},
   "outputs": [
    {
     "data": {
      "image/png": "[encoded data removed]",
      "text/plain": [
       "<Figure size 640x480 with 1 Axes>"
      ]
     },
     "metadata": {},
     "output_type": "display_data"
    }
   ],
   "source": [
    "colors = ['#0000FF',  #Blue\n",
    "          '#FFA500']  #Orange\n",
    "direction = df.groupby('bluelight filter')['sleep time'].mean()\n",
    "direction = direction.sort_values()\n",
    "direction.plot(kind = 'bar', ylabel = 'Stress Level', title = 'Bluelight filter vs Sleep Duration', color = colors)\n",
    "plt.ylabel(\"Sleep Durantion\")\n",
    "plt.savefig(\"../figures/fig10\")"
   ]
  },
  {
   "cell_type": "code",
   "execution_count": 42,
   "id": "0504926c-519f-46fd-b619-8f9826affd8a",
   "metadata": {},
   "outputs": [
    {
     "data": {
      "text/plain": [
       "bluelight filter\n",
       "yes    6.660600\n",
       "no     6.872857\n",
       "Name: sleep time, dtype: float64"
      ]
     },
     "execution_count": 42,
     "metadata": {},
     "output_type": "execute_result"
    }
   ],
   "source": [
    "direction"
   ]
  },
  {
   "cell_type": "code",
   "execution_count": 43,
   "id": "0b3af5e5-cc8e-4c24-9079-bb0fc09ed97d",
   "metadata": {},
   "outputs": [
    {
     "data": {
      "text/plain": [
       "6.7575"
      ]
     },
     "execution_count": 43,
     "metadata": {},
     "output_type": "execute_result"
    }
   ],
   "source": [
    "df['sleep time'].mean()"
   ]
  },
  {
   "cell_type": "code",
   "execution_count": null,
   "id": "04eea476-35de-41a5-8a6b-d8be71dacc35",
   "metadata": {},
   "outputs": [],
   "source": []
  }
 ],
 "metadata": {
  "kernelspec": {
   "display_name": "Python 3 (ipykernel)",
   "language": "python",
   "name": "python3"
  },
  "language_info": {
   "codemirror_mode": {
    "name": "ipython",
    "version": 3
   },
   "file_extension": ".py",
   "mimetype": "text/x-python",
   "name": "python",
   "nbconvert_exporter": "python",
   "pygments_lexer": "ipython3",
   "version": "3.12.4"
  }
 },
 "nbformat": 4,
 "nbformat_minor": 5
}
